{
 "cells": [
  {
   "cell_type": "code",
   "execution_count": 14,
   "metadata": {},
   "outputs": [
    {
     "data": {
      "text/plain": [
       "(3, 2, 0, 0, 3)"
      ]
     },
     "execution_count": 14,
     "metadata": {},
     "output_type": "execute_result"
    }
   ],
   "source": [
    "\"\"\"Требуется найти в бинарном векторе самую длинную последовательность единиц и вывести её длину.\"\"\"\n",
    "# примеры\n",
    "A = [1,1,1,0,0,1,1,0,0,0,1]\n",
    "B = [0,1,1,0,1,0,0,0]\n",
    "C=[]\n",
    "D=[0,0,0]\n",
    "E = [1,1,1]\n",
    "\n",
    "def len_of_ones_list (a):\n",
    "  i=0\n",
    "  max_len = 0\n",
    "  for k in range(len(a)):\n",
    "    if a[k] ==1:\n",
    "      i+=1\n",
    "      max_len= max(i,max_len)\n",
    "    else:\n",
    "      i=0\n",
    "  return max_len\n",
    "\n",
    "len_of_ones_list(A), len_of_ones_list(B), len_of_ones_list(C), len_of_ones_list(D), len_of_ones_list(E)"
   ]
  },
  {
   "cell_type": "code",
   "execution_count": 4,
   "metadata": {},
   "outputs": [
    {
     "name": "stdout",
     "output_type": "stream",
     "text": [
      "It is annogramma!\n",
      "It is not annogramma!\n",
      "It is not annogramma!\n",
      "It is not annogramma!\n"
     ]
    },
    {
     "data": {
      "text/plain": [
       "(None, None, None, None)"
      ]
     },
     "execution_count": 4,
     "metadata": {},
     "output_type": "execute_result"
    }
   ],
   "source": [
    "# примеры\n",
    "a=[1,2,3,4,1,2,3,4]\n",
    "b=[2,1,3,4,1,2,3,4]\n",
    "c=[2,2,2,3]\n",
    "d=[1,1,1,1,1,1]\n",
    "e=[1,2,4,4,4,1,4,3]\n",
    "f = []\n",
    "\n",
    "# в случае если передаем int в качестве параметра инициализирует словарь с нулевым кол-вом по каждому элементу \n",
    "from collections import defaultdict\n",
    "\n",
    "def dict_count_values(a):\n",
    "  # инициализирует словарь с нулевыми значениями ключей типа int\n",
    "  # dict_a = defaultdict(int)\n",
    "  dict_a = {}\n",
    "  for key in a:\n",
    "    # можно сделать это руками\n",
    "    if key not in dict_a: dict_a[key] = 0\n",
    "    dict_a[key] += 1\n",
    "  return dict_a  \n",
    "\n",
    "def ItIsAnnogramm (list1,list2):\n",
    "  if dict_count_values(list1) != dict_count_values(list2): return print(\"It is not annogramma!\")\n",
    "  else: \n",
    "    return print(\"It is annogramma!\")\n",
    "\n",
    "ItIsAnnogramm(a,b), ItIsAnnogramm(a,e), ItIsAnnogramm(a,c), ItIsAnnogramm(a,f)"
   ]
  },
  {
   "cell_type": "code",
   "execution_count": 3,
   "metadata": {},
   "outputs": [
    {
     "data": {
      "text/plain": [
       "(Counter({1: 2, 2: 1, 4: 4, 3: 1}), False)"
      ]
     },
     "execution_count": 3,
     "metadata": {},
     "output_type": "execute_result"
    }
   ],
   "source": [
    "# реализация встроенным счетчиком\n",
    "from collections import Counter\n",
    "\n",
    "def dict_Counter (a):\n",
    "  return Counter(a)\n",
    "\n",
    "\n",
    "dict_Counter(e), dict_Counter(a) == dict_Counter(e)"
   ]
  },
  {
   "cell_type": "code",
   "execution_count": 22,
   "metadata": {},
   "outputs": [
    {
     "data": {
      "text/plain": [
       "(7, 3)"
      ]
     },
     "execution_count": 22,
     "metadata": {},
     "output_type": "execute_result"
    }
   ],
   "source": [
    "\"\"\"\n",
    "Даны две строки строчных латинских символов: строка J и строка S. Символы, входящие в строку J, — «драгоценности», \n",
    "входящие в строку S — «камни». Нужно определить, какое количество символов из S одновременно являются «драгоценностями». \n",
    "Проще говоря, нужно проверить, какое количество символов из S входит в J.\n",
    "gavels = input()\n",
    "stones = input()\"\"\"\n",
    "javels = 'same test text for example'\n",
    "stones = 'another test text'\n",
    "javels1 = 'fuck to crack'\n",
    "stones2 = 'back'\n",
    "# данная реализация считает уникальные совпадения, не учитывая что может несколько раз повторяться\n",
    "\n",
    "def StonesInJavels(javels,stones):\n",
    "  count = 0\n",
    "  # убираем пробелы\n",
    "  for i in set(javels.replace(' ','')):\n",
    "    for j in set(stones.replace(' ','')):\n",
    "      if i == j: count +=1\n",
    "  return count\n",
    "\n",
    "StonesInJavels(javels,stones), StonesInJavels(javels1,stones2)\n"
   ]
  },
  {
   "cell_type": "code",
   "execution_count": 19,
   "metadata": {},
   "outputs": [
    {
     "data": {
      "text/plain": [
       "[2, 4, 8]"
      ]
     },
     "execution_count": 19,
     "metadata": {},
     "output_type": "execute_result"
    }
   ],
   "source": [
    "\"\"\"Дан упорядоченный по неубыванию массив целых 32-разрядных чисел. Требуется удалить из него все повторения.\n",
    "Первая строка входного файла содержит единственное число n, n ≤ 1000000.\n",
    "На следующих n строк расположены числа — элементы массива, по одному на строку. Числа отсортированы по неубыванию.\n",
    "Выходной файл должен содержать следующие в порядке возрастания уникальные элементы входного массива.\"\"\"\n",
    "def unique_val_arr(file_name):\n",
    "  # открывает файл для чтения \n",
    "  with open(file_name, \"r\") as file:\n",
    "    # считываем все в 1 строку и сплитуем в лист т.к. считалось в формате: ['5\\n2\\n4\\n8\\n8\\n8']\n",
    "    arr_text = file.read().split(\"\\n\")\n",
    "  # 1 элемент сообщает длину массива с данными, в выводе он не нужен, но минимальную длину считаем с учетом его наличия\n",
    "  if len(arr_text) < 2: return 0\n",
    "  # убираем 1ый элемент, так как он лишь сообщает длину массива с данными\n",
    "  # переводим в множество - оставляет только уникальные значения\n",
    "  # переводим все элементы в int и запихиваем в список\n",
    "  # сортируем\n",
    "  return sorted(list(map(int,set(arr_text[1:]))))\n",
    "\n",
    "unique_val_arr(\"array_of_integers.txt\")\n"
   ]
  },
  {
   "cell_type": "code",
   "execution_count": 6,
   "metadata": {},
   "outputs": [
    {
     "name": "stdout",
     "output_type": "stream",
     "text": [
      "((()))\n",
      "(()())\n",
      "(())()\n",
      "()(())\n",
      "()()()\n"
     ]
    }
   ],
   "source": [
    "# Дано целое число n. Требуется вывести все правильные скобочные последовательности длины 2 ⋅ n, упорядоченные лексикографически\n",
    "# Желательно получить решение, которое работает за время, пропорциональное общему количеству правильных скобочных последовательностей в ответе, \n",
    "# и при этом использует объём памяти, пропорциональный n. brace = круглая скобка\n",
    "# примеры:\n",
    "example_count_1 = ['()']\n",
    "example_count_2 = ['()()','(())']\n",
    "example_count_3 = ['()()()','((()))','(())()','()(())','(()())']\n",
    "\n",
    "def generate_brace (order, open, closed, count):\n",
    "  # order - последовательность скобок, итоговый размер count*2\n",
    "  # count - количество скобок одного типа, должно быть равное количество \"(\" и \")\" \n",
    "  # open - количество открывающих скобок\n",
    "  # closed - количество закрывающих скобок\n",
    "  # генерируем рекурсию с условием выхода и проверкой вариантов добавления каждого типа скобок \n",
    "  if len(order) == 2*count: \n",
    "    print(order)\n",
    "    return\n",
    "  # если кол-во открытых меньше макс кол-ва то можем добавить \"(\"\n",
    "  if open<count: generate_brace(order+'(', open+1, closed, count)\n",
    "  # если закрытых стало меньше открытых, то добавляем\n",
    "  if closed<open: generate_brace(order+')', open, closed+1, count)\n",
    "\n",
    "# функция вызова рекурсии\n",
    "def recursion_call(count):\n",
    "  generate_brace ('', 0, 0, count)\n",
    "  return\n",
    "\n",
    "recursion_call(3)"
   ]
  },
  {
   "cell_type": "code",
   "execution_count": 23,
   "metadata": {},
   "outputs": [
    {
     "data": {
      "text/plain": [
       "2"
      ]
     },
     "execution_count": 23,
     "metadata": {},
     "output_type": "execute_result"
    }
   ],
   "source": [
    "\"\"\"В первой строке входных данных записано количество городов n. В следующих n строках даны два целых числа: \n",
    "координаты каждого города, не превосходящие по модулю миллиарда. Все города пронумерованы числами от 1 до n\n",
    "в порядке записи во входных данных. В следующей строке записано целое положительное число k, не превосходящее \n",
    "двух миллиардов, — максимальное расстояние между городами, которое Петя может преодолеть без дозаправки машины.\n",
    "В последней строке записаны два различных числа — номер города, откуда едет Петя, и номер города, куда он едет.\n",
    "\n",
    "Если существуют пути, удовлетворяющие описанным выше условиям, то выведите минимальное количество дорог, которое \n",
    "нужно проехать, чтобы попасть из начальной точки маршрута в конечную. Если пути не существует, выведите -1.\"\"\"\n",
    "import numpy as np\n",
    "\n",
    "def finding_a_path(name_file):\n",
    "  # открываем файл, читаем в 1 строку и сплитуем по символам \\n\n",
    "  with open(name_file, 'r') as file:\n",
    "    # получаем список строк типа ['7', '0 0', '0 2', '2 2', '0 -2', '2 -2', '2 -1', '2 1', '2', '1 3']\n",
    "      arr_text = file.read().split('\\n')\n",
    "  arr=[]\n",
    "  # создаем список списков, каждый из которых включает элементы определенной строки файла приведенные к int, чтобы было удобно обращаться к отрицательным значениям\n",
    "  # [[7], [0, 0], [0, 2], [2, 2], [0, -2], [2, -2], [2, -1], [2, 1], [2], [1, 3]]\n",
    "  for i in range(len(arr_text)):\n",
    "    a = arr_text[i]\n",
    "    a = a.split()\n",
    "    a = list(map(int,a))\n",
    "    arr.append(a)\n",
    "  # создаем переменные сугубо для удобства\n",
    "  num_start_city = arr[-1][0]\n",
    "  num_end_city = arr[-1][-1]\n",
    "  way_car = arr[-2][0]\n",
    "  # если растояние между нач городом и конечным <= пути без подзаправки, то путь займет 1 день\n",
    "  if (np.abs(arr[num_start_city][0] - arr[num_end_city][0]) + np.abs(arr[num_start_city][-1] - arr[num_end_city][-1])) <= way_car: \n",
    "    return 1\n",
    "  else:\n",
    "    # иначе, считаем количество возможных (растояние меньше way_car) переходов между соседними городами от нач до конеч города,\n",
    "    # если растояние больше возможного пути без подзапрвки выходим с -1\n",
    "    count = 0\n",
    "    for num_city in range(num_start_city,num_end_city):\n",
    "      if (np.abs(arr[num_city][0] - arr[num_city+1][0]) + np.abs(arr[num_city][-1] - arr[num_city+1][-1])) <= way_car: \n",
    "        count +=1\n",
    "      else: return -1\n",
    "    return count\n",
    "\n",
    "finding_a_path('way_to_city.txt')"
   ]
  },
  {
   "cell_type": "code",
   "execution_count": 67,
   "metadata": {},
   "outputs": [
    {
     "data": {
      "text/plain": [
       "defaultdict(list,\n",
       "            {'this': [0, 17],\n",
       "             'is': [1],\n",
       "             'example': [2],\n",
       "             'easy': [3, 18],\n",
       "             'text': [4, 14, 19],\n",
       "             'that': [5],\n",
       "             'will': [6],\n",
       "             'help': [7],\n",
       "             'us': [8],\n",
       "             'to': [9],\n",
       "             'create': [10],\n",
       "             'the': [11, 25],\n",
       "             'collection': [12],\n",
       "             'of': [13],\n",
       "             'tokens': [15],\n",
       "             'read': [16],\n",
       "             'and': [20],\n",
       "             'go': [21, 22, 23],\n",
       "             'for': [24],\n",
       "             'godness': [26]})"
      ]
     },
     "execution_count": 67,
     "metadata": {},
     "output_type": "execute_result"
    }
   ],
   "source": [
    "# создание коллекции из токенов текста - {слово: номера его вхождений в тескте}\n",
    "import re\n",
    "\n",
    "text = 'This is example easy text, that will help us to create the collection of text tokens! Read this easy text and go- go-go... For the Godness!'\n",
    "\n",
    "def create_collection(text):\n",
    "  # применяем регулярное выражение, которое заменяет все символы кроме букв и цифр на пробелы, \n",
    "  # более общий и быстрый аналог, чем replace(\"old_str\",\"new_str\")\n",
    "  clear_text = re.sub(r'[^\\w\\s]+', ' ', text)\n",
    "  # делаем все буквы строчными\n",
    "  clear_text=clear_text.lower()\n",
    "  # ОЧЕНЬ ВАЖНО!!! split() без параметров разбивает по пробелам - СЧИТАЯ НЕСКОЛЬКО ПРОБЕЛОВ ЗА ОДИН!\n",
    "  tokens_list = clear_text.split()\n",
    "  # создает дефолтный словарь, со значениями - пустой список, к такому можно добавлять в значения списки!\n",
    "  collection = defaultdict(list)\n",
    "  # пробегаем по списку, присваиваем ключу индексы всех его вхождений в список\n",
    "  for token in tokens_list:\n",
    "    collection[token]=[i for i in range(len(tokens_list)) if tokens_list[i] == token]\n",
    "\n",
    "  return collection\n",
    "\n",
    "create_collection(text)"
   ]
  },
  {
   "cell_type": "code",
   "execution_count": 9,
   "metadata": {},
   "outputs": [
    {
     "data": {
      "text/plain": [
       "(None, [2, 3, 18, 5, 10, 16, 20])"
      ]
     },
     "execution_count": 9,
     "metadata": {},
     "output_type": "execute_result"
    }
   ],
   "source": [
    "\"\"\"ф-ия поиска подстроки в коллекции токенов.\n",
    "ввод: подстрока которую ищем и коллекция токенов\n",
    "вывод: tuple(индекс полного совпадения или None, список индексов слов с частичным совпадением или None)\"\"\"\n",
    "\n",
    "def finding_substring(substring, collection):\n",
    "  find_full = []\n",
    "  find_substring = []\n",
    "  # items - передает ключ и значение \n",
    "  for key, val in collection.items():\n",
    "    # если полное совпадение то передаем с помощью extend ЗНАЧЕНИЯ (append передал бы список) списка индексов в список полного совпадения \n",
    "    if key == substring : find_full.extend(val)\n",
    "    # ф-ия find выдает -1 если не нашла НИКАКИХ совпадений, поэтому такое условие для поиска индексов частичного совпадения\n",
    "    elif key.find(substring) > -1: find_substring.extend(val)\n",
    "  # в случае, если нет полных совпадений или частичных присваиваем None\n",
    "  if len(find_full) == 0: find_full = None\n",
    "  if len(find_substring) == 0: find_substring = None\n",
    "\n",
    "  return (find_full, find_substring)\n",
    "\n",
    "collection = create_collection(text)\n",
    "\n",
    "finding_substring('a', collection)\n",
    "\n"
   ]
  },
  {
   "cell_type": "code",
   "execution_count": 10,
   "metadata": {},
   "outputs": [
    {
     "data": {
      "text/plain": [
       "([1, 0], [1, 0])"
      ]
     },
     "execution_count": 10,
     "metadata": {},
     "output_type": "execute_result"
    }
   ],
   "source": [
    "\"\"\"Найти индексы элементов списка, которые в сумме равны таргету\"\"\"\n",
    "nums = [2,7,11,15]\n",
    "target = 9\n",
    "# медленный способ с перебором O(N**2)\n",
    "def two_sum(nums, target):\n",
    "  # находим разницу с каждым элементом списка\n",
    "  result_dev = [target-num for num in nums]\n",
    "\n",
    "  result_list = []\n",
    "  # если совпадает значение разницы и какого-то элемента списка то выводим индекс \n",
    "  for i in range(len(nums)):\n",
    "    for j in range(len(nums)):\n",
    "      if result_dev[i]== nums[j]: result_list.append(j)\n",
    "\n",
    "  return result_list\n",
    "\n",
    "# быстрый способ с созданием хэш-таблицы dict(val_num:index) скорость линейная O(N)\n",
    "def twoSum(nums, target):\n",
    "  seen = {}\n",
    "  # создаем хэш-таблицу, и считаем разницу - сравниваем разницу со значением ключа хэш-таблицы, если есть совпадение -> выводим индексы\n",
    "  # enumerate - выдает tuple(index,value_num)\n",
    "  for i, value in enumerate(nums):\n",
    "    # разница таргета с тек знач\n",
    "    remaining = target - nums[i]\n",
    "    # если разница есть среди ключей просмотренных значений (а это значит что сумма текущего и просмотренного ключа это таргет) -> индексы текущего и просмотренного\n",
    "    if remaining in seen:\n",
    "      return [i, seen[remaining]]\n",
    "    # словарь просмотренных значений {значение : индекс} - записываем значение в ключи, т.к. только по ним можно искать\n",
    "    seen[value] = i \n",
    "            \n",
    "twoSum(nums, target), two_sum(nums, target)"
   ]
  },
  {
   "cell_type": "code",
   "execution_count": 11,
   "metadata": {},
   "outputs": [
    {
     "name": "stdout",
     "output_type": "stream",
     "text": [
      "It is palindrom!\n"
     ]
    }
   ],
   "source": [
    "# проверка, число палиндром или нет (читается одинаково в обе стороны) - просто переводим в строку, инвертируем и сравниваем\n",
    "def palindrom_or_not(n):\n",
    "  reverse_n =str(n)[::-1]\n",
    "  if reverse_n == str(n): print(\"It is palindrom!\")\n",
    "  else: print(\"It is not palindrom!\")\n",
    "  \n",
    "palindrom_or_not(121)"
   ]
  },
  {
   "cell_type": "code",
   "execution_count": 48,
   "metadata": {},
   "outputs": [
    {
     "data": {
      "text/plain": [
       "10998"
      ]
     },
     "execution_count": 48,
     "metadata": {},
     "output_type": "execute_result"
    }
   ],
   "source": [
    "# перевод из римских чисел в арабские - смысл в том, что когда меньшее число стоит перед большим оно вычитается, иначе ++\n",
    "# создадим хэш-таблицу и учтем это условие\n",
    "romen_numb = 'MMMMMMMMMMCMXCVIII' #10998\n",
    "def romen_to_arabian (romen_numb): \n",
    "  romen = {\"I\": 1, \"V\":5,\"X\":10,\"L\": 50, \"C\": 100,\"D\" :500,\"M\":1000}\n",
    "  arabian = 0\n",
    "  for i, val in enumerate(romen_numb):\n",
    "    # последний римский символ всегда ++, потому if до предпоследнего\n",
    "    if (i <len(romen_numb)-1) and (romen[val] < romen[romen_numb[i+1]]) : arabian -= romen[val]\n",
    "    else: arabian += romen[val]\n",
    "  return arabian\n",
    "\n",
    "romen_to_arabian (romen_numb)"
   ]
  },
  {
   "cell_type": "code",
   "execution_count": 49,
   "metadata": {},
   "outputs": [
    {
     "data": {
      "text/plain": [
       "'MMMMMMMMMMCMXCVIII'"
      ]
     },
     "execution_count": 49,
     "metadata": {},
     "output_type": "execute_result"
    }
   ],
   "source": [
    "num = 10998\n",
    "\n",
    "def intToRoman(num: int) -> str:\n",
    "        digits = [(1000, 'M'),(900, 'CM'),(500, 'D'),(400, 'CD'),(100, 'C'),(90,'XC'),(50,'L'),(40,'XL'),(10,'X'),(9,'IX'),(5,'V'),(4,'IV'),(1,'I')]\n",
    "\n",
    "        res = \"\"\n",
    "        # from 1000 to 1, we decrement numbers and tranfer into symbols\n",
    "        for value, symbol in digits:\n",
    "            if num==0:\n",
    "                break\n",
    "            # divmod(num, value) -> (num // value, num % value) ВАЖНО!!! 115%1000=115(если делится меньшее но большее, то возвращант тоже число)\n",
    "            count, num = divmod(num, value)\n",
    "            # 5*'D' -> 'DDDDD'\n",
    "            res += count*symbol\n",
    "        return res\n",
    "\n",
    "intToRoman(num)"
   ]
  },
  {
   "cell_type": "code",
   "execution_count": 21,
   "metadata": {},
   "outputs": [
    {
     "data": {
      "text/plain": [
       "('ар', '')"
      ]
     },
     "execution_count": 21,
     "metadata": {},
     "output_type": "execute_result"
    }
   ],
   "source": [
    "# поиск максимальной общей подстроки в начале слова\n",
    "list_str1 = [\"арбуз\", \"арабика\", \"арбалет\",\"армия\",\"арка\",\"артиллерия\",\"армада\"]\n",
    "list_str2 = [\"арбуз\", \"конь\", \"браслет\", \"снегирь\"]\n",
    "# zip(*list_str) - в зип передаются (распаковываются) отдельно элементы списка -> val = tuple(i-ых символов переданных слов)\n",
    "# прим: ('а', 'а', 'а', 'а', 'а', 'а', 'а'), ('р', 'р', 'р', 'р', 'р', 'р', 'р'), ...\n",
    "def find_start_substring(list_str):\n",
    "  # склеивание элементов листа через join работает быстрее, чем ++ строк\n",
    "  #substring = ''\n",
    "  substring =[]\n",
    "  for val in zip(*list_str):\n",
    "    # если уник символ 1 - значит все одинаковые, записываем один из них...\n",
    "    if len(set(val)) == 1: \n",
    "      #substring += val[0]\n",
    "      substring.append(val[0])\n",
    "    else: break\n",
    "  \n",
    "  return ''.join(substring)\n",
    "\n",
    "find_start_substring(list_str1), find_start_substring(list_str2)"
   ]
  },
  {
   "cell_type": "code",
   "execution_count": 66,
   "metadata": {},
   "outputs": [
    {
     "data": {
      "text/plain": [
       "[1,\n",
       " 2,\n",
       " 3,\n",
       " 4,\n",
       " 5,\n",
       " 6,\n",
       " 7,\n",
       " 9,\n",
       " 13,\n",
       " 14,\n",
       " 15,\n",
       " 54,\n",
       " 55,\n",
       " 73,\n",
       " 76,\n",
       " 85,\n",
       " 86,\n",
       " 87,\n",
       " 96,\n",
       " 98,\n",
       " 99,\n",
       " 100,\n",
       " 112,\n",
       " 118,\n",
       " 120]"
      ]
     },
     "execution_count": 66,
     "metadata": {},
     "output_type": "execute_result"
    }
   ],
   "source": [
    "\"\"\"Даны k отсортированных в порядке неубывания массивов неотрицательных целых чисел, каждое из которых не превосходит 100. \n",
    "Требуется построить результат их слияния: отсортированный в порядке неубывания массив, содержащий все элементы исходных k массивов. \n",
    "Длина каждого массива не превосходит 10*k.\"\"\"\n",
    "# СУПЕР ВАЖНО!!!!!\n",
    "# ф-ия merge объединяет некоторое кол-во итерируемых объектов (прим: списков) возвращает генератор (для вывода -> list())\n",
    "from heapq import merge\n",
    "\n",
    "arr1 = [1,2,3,4,5,7,9,13,15,55,85,98,100,112,118,120]\n",
    "arr2 = [2,2,3,7,14,54,76,87,99]\n",
    "arr3 = [6,7,15,73,86,96,99]\n",
    "\n",
    "def merge_arrays(*arrays):\n",
    "  # учитываем, что массивов может быть k штук и нам нужны уникальные элементы после объединения\n",
    "  # если начальные массивы отсортированы, то set будет также сортирован\n",
    "  arr_all = list(set(list(merge(*arrays))))\n",
    "  return arr_all\n",
    "\n",
    "merge_arrays(arr1, arr2, arr3)"
   ]
  },
  {
   "cell_type": "code",
   "execution_count": 23,
   "metadata": {},
   "outputs": [
    {
     "data": {
      "text/plain": [
       "(True, False)"
      ]
     },
     "execution_count": 23,
     "metadata": {},
     "output_type": "execute_result"
    }
   ],
   "source": [
    "# необходимо проверить, чтобы все открытые скобки закрывались скобками того-же типа\n",
    "test_example1 = '()[]{}'\n",
    "test_example2 = '{)[){}'\n",
    "\n",
    "def Valid_Parentheses(text):\n",
    "  # проверка входного набора скобок - должно быть четное количество\n",
    "  if len(text)%2 != 0: return print(\"Некорректная последовательность! Присутствуют непарные скобки.\")\n",
    "\n",
    "  hash_map = {'(': ')', '{' :'}', '[':']'}\n",
    "\n",
    "  for i in range(len(text)):\n",
    "    # если четный символ (должна быть открывающая скобка), но не входит в ключи словаря (НЕ открывающая скобка) -> False\n",
    "    if (i%2 == 0) and (text[i] not in hash_map): return False\n",
    "    # для дальнейшей проверки интересуют только те что есть в ключах (открывающие скобки), значение следующего символа \n",
    "    # сравниваем с val из hash_map текущего символа - не соответствие означает неверную закрывающую скобку\n",
    "    elif (text[i] in hash_map) and (text[i+1] != hash_map[text[i]]): return False\n",
    "    # нечетные проверяются на соответствие условием выше, потому при i%2==1 -> переход на след итерацию\n",
    "    else: continue\n",
    "  # если дошли до конца без False, то все верно\n",
    "  return True  \n",
    "\n",
    "Valid_Parentheses(test_example1), Valid_Parentheses(test_example2)"
   ]
  },
  {
   "cell_type": "code",
   "execution_count": 16,
   "metadata": {},
   "outputs": [
    {
     "data": {
      "text/plain": [
       "2"
      ]
     },
     "execution_count": 16,
     "metadata": {},
     "output_type": "execute_result"
    }
   ],
   "source": [
    "# поиск мин четного числа, если нет -> -1\n",
    "exp = [-1,2,5,7,4,8,6]\n",
    "min_num = -1\n",
    "for i in range(len(exp)):\n",
    "  # условие or необходимо для первого захода в цикл, пока еще не были найдены меньшие числа\n",
    "  if exp[i]%2 ==0 and (exp[i]<min_num or min_num == -1):\n",
    "    min_num = exp[i]\n",
    "min_num\n"
   ]
  },
  {
   "cell_type": "code",
   "execution_count": 17,
   "metadata": {},
   "outputs": [
    {
     "data": {
      "text/plain": [
       "'a b c'"
      ]
     },
     "execution_count": 17,
     "metadata": {},
     "output_type": "execute_result"
    }
   ],
   "source": [
    "# вывод через пробел самых коротких слов последовательности\n",
    "exp1 = 'aa afb a eee b df c'\n",
    "def shortwords(text):\n",
    "  text = list(text.split())\n",
    "  result = []\n",
    "  min_len = len(text[0])\n",
    "  # т.к. 1 элемент взяли за первый минимум, то итерируем со 2ого\n",
    "  for i in range(1,len(text)):\n",
    "    if len(text[i])<min_len:\n",
    "      min_len = len(text[i])\n",
    "\n",
    "  for i in range(1,len(text)):\n",
    "    if len(text[i])==min_len:\n",
    "      result.append(text[i]) \n",
    "  # эта конструкция объединяет элементы массива в строку, разделитель указывается в ''\n",
    "  return ' '.join(result)\n",
    "\n",
    "shortwords(exp1)  "
   ]
  },
  {
   "cell_type": "code",
   "execution_count": 18,
   "metadata": {},
   "outputs": [
    {
     "data": {
      "image/png": "[encoded data removed]",
      "text/plain": [
       "<IPython.core.display.Image object>"
      ]
     },
     "metadata": {
      "image/png": {
       "width": 800
      }
     },
     "output_type": "display_data"
    }
   ],
   "source": [
    "from IPython.display import Image # Библиотека для отображения картинок\n",
    "# display(Image(url='https://habrastorage.org/webt/9m/2c/zd/9m2czdt-uv7oe6v-nws3frtw7-a.jpeg', width = 200) Задаем ширину картинки\n",
    "\n",
    "display(Image(filename='Water_in_island.png', width = 800)) # Локальный файл"
   ]
  },
  {
   "cell_type": "code",
   "execution_count": 20,
   "metadata": {},
   "outputs": [
    {
     "data": {
      "text/plain": [
       "7"
      ]
     },
     "execution_count": 20,
     "metadata": {},
     "output_type": "execute_result"
    }
   ],
   "source": [
    "# в списке находятся координаты высоты (количества) блоков земли\n",
    "landshaft = [3,1,4,3,5,1,1,3,1]\n",
    "left_point = 0\n",
    "count = 0\n",
    "for i in range(1,len(landshaft)-1):\n",
    "  # сравниваем с левым и правым относительно i, если там выше - зальется на высоку min стенки\n",
    "  if landshaft[i]<landshaft[i-1] and landshaft[i]<landshaft[i+1]:\n",
    "    count += (min(landshaft[i-1],landshaft[i+1]) - landshaft[i])\n",
    "  # если с одной стороны выше, а с другой равная - идем вправо пока не встретим горку либо ямку\n",
    "  elif landshaft[i]<landshaft[i-1] and landshaft[i]==landshaft[i+1]:\n",
    "    left_point=i-1\n",
    "    while landshaft[i]==landshaft[i+1]:\n",
    "      i+=1 \n",
    "    # если справа в итоге горка - заливаем учитывая ширину ямы\n",
    "    if landshaft[i]<landshaft[i+1]: \n",
    "      count += (min(landshaft[left_point],landshaft[i+1]) - landshaft[i])*(i-left_point)\n",
    "    # иначе, если слева или справа меньше высота (скат в яму), то вода не накопится \n",
    "    else: continue\n",
    "  else: continue\n",
    "count"
   ]
  },
  {
   "cell_type": "code",
   "execution_count": 25,
   "metadata": {},
   "outputs": [
    {
     "data": {
      "text/plain": [
       "('A4B3C5D2EF2A7', 0, 'A9', 'A')"
      ]
     },
     "execution_count": 25,
     "metadata": {},
     "output_type": "execute_result"
    }
   ],
   "source": [
    "\"\"\"Дана строка, возможно пустая, например: AAAABBBCCCCCDDEFFAAAAAAA. Необходимо привести к виду: A4B3C5D2EF2A7 \n",
    "(в случае когда символ не повторяется 1 не пишется) \"\"\"\n",
    "text = \"AAAABBBCCCCCDDEFFAAAAAAA\"\n",
    "empty_text = \"\"\n",
    "A_text = \"AAAAAAAAA\"\n",
    "A1_text = \"A\"\n",
    "\n",
    "def ZIP_text(text):\n",
    "  if len(text) == 0: return 0\n",
    "  last_symbol = text[0]\n",
    "  left_point = 0\n",
    "  result = []\n",
    "  # начинаем с 0 элемента чтобы обработать случай строки с 1 элементом\n",
    "  for i in range(len(text)):\n",
    "    # в случае когда сменился символ или дошли до конца строки (возможно состоящей из одинаковых символов) добавляем шедший до смены символ и кол-во повторов\n",
    "    if (text[i] != last_symbol) or (i == (len(text)-1)):\n",
    "      # в случае конца строки +1 к кол-ву символов, так как переход на новый символ не происходит, а значит мы потеряем 1 штуку\n",
    "      if (i-left_point > 1) and (i == (len(text)-1)): result.append(last_symbol+str(i+1-left_point))\n",
    "      elif i-left_point > 1: result.append(last_symbol+str(i-left_point))\n",
    "      # в случае когда символ не повторяется кол-во не пишется\n",
    "      else: result.append(last_symbol)\n",
    "      # обновляем тип последнего символа и его начальную координату\n",
    "      last_symbol = text[i]\n",
    "      left_point = i\n",
    "      # список вычислительно дешевле приводить к строке с помощью join, чем складывать строки через str1 + str2\n",
    "  return ''.join(result)\n",
    "\n",
    "ZIP_text(text) , ZIP_text(empty_text) , ZIP_text(A_text), ZIP_text(A1_text)"
   ]
  },
  {
   "cell_type": "code",
   "execution_count": 29,
   "metadata": {},
   "outputs": [
    {
     "data": {
      "text/plain": [
       "{1: [1, 2, 3, 8], 2: [6, 5]}"
      ]
     },
     "execution_count": 29,
     "metadata": {},
     "output_type": "execute_result"
    }
   ],
   "source": [
    "# работа со словарем\n",
    "my_dict = {1:[1,2,3], 2:[4,5,6]}\n",
    "my_dict[1].append(8)\n",
    "my_dict[2][0], my_dict[2][-1] = my_dict[2][-1], my_dict[2][0]\n",
    "# delete last\n",
    "my_dict[2].pop()\n",
    "my_dict"
   ]
  },
  {
   "cell_type": "code",
   "execution_count": 38,
   "metadata": {},
   "outputs": [
    {
     "data": {
      "text/plain": [
       "([1, 2, 3, 3, 4, 5, 5, 6, 10], [1, 1, 2, 1, 2, 1, 0, 0, 0, 1])"
      ]
     },
     "execution_count": 38,
     "metadata": {},
     "output_type": "execute_result"
    }
   ],
   "source": [
    "# сортировка подсчетом - использовать, если числа сгруппированы с маленькой дисперсией, иначе используется напрасно много доп памяти\n",
    "sequence = [2,9,12,4,2,6,19,12,34,19,4,5,6,7,45]\n",
    "simple_seq = [4,5,2,1,3,5,3,6, 10]\n",
    "def countcort(seq):\n",
    "  max_val = max(seq)\n",
    "  min_val = min(seq)\n",
    "  # находим размах выборки \n",
    "  delta = max_val - min_val + 1\n",
    "  # создаем список 0 размером с размах delta\n",
    "  count_value_list = [0]*delta\n",
    "  for val in seq:\n",
    "    #  записываем количество каждого из элементов выборки на следующие позиции: НОРМИРУЕМ ПО МИНИМУМУ\n",
    "    #  минимум выборки будет на нулевой позиции, максимум на последней, остальные на  [значение - минимум], незанятые позиции = 0\n",
    "    #  в итоге, если дисперсия или размах большой - создается список с очень большим количеством нулевых значений\n",
    "    #  пример для simple_seq: [1, 1, 2, 1, 2, 1, 0, 0, 0, 1]  \n",
    "    count_value_list[val  - min_val] += 1\n",
    "  valposition = 0\n",
    "  for i in range(delta):\n",
    "    for _ in range(count_value_list[i]):\n",
    "      # делаем обратное преобразование к i прибавляем минимум и делаем это count_value_list[i] раз\n",
    "      seq[valposition] = i + min_val\n",
    "      valposition +=1\n",
    "  return seq , count_value_list\n",
    "\n",
    "countcort(simple_seq)"
   ]
  },
  {
   "cell_type": "code",
   "execution_count": 41,
   "metadata": {},
   "outputs": [
    {
     "data": {
      "text/plain": [
       "(True, False)"
      ]
     },
     "execution_count": 41,
     "metadata": {},
     "output_type": "execute_result"
    }
   ],
   "source": [
    "#сравнить 2 числа, можно ли их получить перестановками\n",
    "x=123456\n",
    "y=234561\n",
    "z=1234567\n",
    "\n",
    "def compare_two_number(x,y):\n",
    "  # ф-ия разбиения числа на цифры и подсчет количества каждой из них\n",
    "  def split_count_number(x):\n",
    "    list_count_numb = [0]*10\n",
    "    while x != 0:\n",
    "      # определяет остаток от деления на 10 -> последнюю цифру\n",
    "      last_numb = x%10\n",
    "      list_count_numb[last_numb] +=1\n",
    "      # делит нацело, отбрасывая остаток -> убирает последнюю цифру\n",
    "      x = x//10\n",
    "    return list_count_numb\n",
    "\n",
    "  split_x = split_count_number(x)\n",
    "  split_y = split_count_number(y)\n",
    "  # сравниваем два списка с кол-вом вхождений цифр, если не совпадают -> перестановками числа сравнять нельзя\n",
    "  for i in range(len(split_x)):\n",
    "    if split_x[i] != split_y[i]: return False\n",
    "  return True\n",
    "\n",
    "compare_two_number(x,y), compare_two_number(x,z)"
   ]
  },
  {
   "cell_type": "code",
   "execution_count": 42,
   "metadata": {},
   "outputs": [
    {
     "name": "stdout",
     "output_type": "stream",
     "text": [
      "1 1\n",
      "2 4\n",
      "1 3\n",
      "4 2\n",
      "1 2\n"
     ]
    }
   ],
   "source": [
    "coords = [[1,1],[2,4],[1,3],[4,2],[1,2]]\n",
    "# распаковка пар координат\n",
    "for i,j in coords:\n",
    "  print (i,j)"
   ]
  },
  {
   "cell_type": "code",
   "execution_count": 45,
   "metadata": {},
   "outputs": [
    {
     "data": {
      "text/plain": [
       "3"
      ]
     },
     "execution_count": 45,
     "metadata": {},
     "output_type": "execute_result"
    }
   ],
   "source": [
    "\"\"\"задача о нахождении пар бьющих друг друга ладей. ДАно NxM поле, М ладей.\"\"\"\n",
    "def count_paars_tower(list_coordinates_towers):\n",
    "  # процедура подсчета кол-ва ладей на каждой линии (строке или столбце)\n",
    "  def count_toline_towers(dict_line, key):\n",
    "    if key not in dict_line: dict_line[key] = 1\n",
    "    else: dict_line[key] += 1\n",
    "  # коол-во пар на линии равен (кол-ву ладей на линии - 1)\n",
    "  def count_toline_pares(dict_line):\n",
    "    count_pare = 0\n",
    "    for key in dict_line:\n",
    "      count_pare += dict_line[key] - 1\n",
    "    return count_pare \n",
    "\n",
    "  count_tower_on_rows = {}\n",
    "  count_tower_on_columns = {}\n",
    "  # вытаскиваем пару координат для каждой ладьи\n",
    "  for row, col in list_coordinates_towers:\n",
    "    count_toline_towers(count_tower_on_rows, row)\n",
    "    count_toline_towers(count_tower_on_columns, col)\n",
    "  \n",
    "  return count_toline_pares(count_tower_on_rows) + count_toline_pares(count_tower_on_columns)\n",
    "\n",
    "count_paars_tower(coords)"
   ]
  },
  {
   "cell_type": "code",
   "execution_count": 53,
   "metadata": {},
   "outputs": [
    {
     "data": {
      "text/plain": [
       "[8, 8, 6]"
      ]
     },
     "execution_count": 53,
     "metadata": {},
     "output_type": "execute_result"
    }
   ],
   "source": [
    "list1=[1,2,4]\n",
    "list2=[7,6,2]\n",
    "true_ans=421+267 # 688\n",
    "\n",
    "invlist = int(''.join(map(str,list1[::-1]))) + int(''.join(map(str,list2[::-1])))\n",
    "list_ans=[]\n",
    "while invlist!=0:\n",
    "  num = invlist%10\n",
    "  list_ans.append(num)\n",
    "  invlist = invlist//10\n",
    "list_ans"
   ]
  },
  {
   "cell_type": "code",
   "execution_count": 55,
   "metadata": {},
   "outputs": [
    {
     "data": {
      "text/plain": [
       "[['tea', 'ate', 'tae'], ['svc', 'cvs'], ['por']]"
      ]
     },
     "execution_count": 55,
     "metadata": {},
     "output_type": "execute_result"
    }
   ],
   "source": [
    "# разбить на листы подобных слов\n",
    "words = [\"tea\",\"ate\",\"tae\", \"svc\",\"cvs\", \"por\"]\n",
    "dict_words = {}\n",
    "for word in words:\n",
    "  # ф-я sorted преобразует слово в отсортированный лист из букв, поэтому нужно склеить и далее заносить в словарь (под один ключ, если после сориторвки равны)\n",
    "  sort_word = ''.join(sorted(word))\n",
    "  if sort_word not in dict_words: dict_words[sort_word] = []\n",
    "  dict_words[sort_word].append(word)\n",
    "list_group_words = []\n",
    "for group_word in dict_words:\n",
    "  list_group_words.append(dict_words[group_word])\n",
    "list_group_words"
   ]
  },
  {
   "cell_type": "code",
   "execution_count": 64,
   "metadata": {},
   "outputs": [
    {
     "data": {
      "text/plain": [
       "4"
      ]
     },
     "execution_count": 64,
     "metadata": {},
     "output_type": "execute_result"
    }
   ],
   "source": [
    "# задача о поиске максимальной подстроки без повторений символов\n",
    "# реализуется с помощью скользящего окна -> O(N)\n",
    "word = \"aaasdfaaagg\"\n",
    "\n",
    "left = 0\n",
    "maxlen = 0\n",
    "# так как ищем подстроку без повторов, используем множество \n",
    "windowset = set()\n",
    "for right in range(len(word)):\n",
    "  # на первой итерации пропустим, так как множество окна еще пусто\n",
    "  # проверяем есть ли уже в нашем окне такой символ, если есть сжимаем левую границу (удаляя левые эл-ты) пока символ не будет уникален\n",
    "  while word[right] in windowset:\n",
    "    windowset.remove(word[left])\n",
    "    # после удаления крайнего левого не забываем передвинуть границу\n",
    "    left +=1\n",
    "  # записываем в множество \n",
    "  windowset.add(word[right])\n",
    "  # считаем максимальную длину получившегося окна (+1 потому что итерация с 0) -> можно  max(maxlen, len(windowset)) или  max(maxlen,right-left +1)\n",
    "  maxlen = max(maxlen, len(windowset))\n",
    "\n",
    "maxlen"
   ]
  },
  {
   "cell_type": "code",
   "execution_count": null,
   "metadata": {},
   "outputs": [],
   "source": [
    "\"\"\"в задаче на сложение связанных списков - необходимо учитывать, что следующие узлы могут не существовать, а при результате сложения больше 9 \n",
    "десятки нужно прибавить к следующему узлу, так что если узлов нет, но десяток есть - создаем нулевые узлы\"\"\""
   ]
  },
  {
   "cell_type": "code",
   "execution_count": 36,
   "metadata": {},
   "outputs": [
    {
     "data": {
      "text/plain": [
       "[33, 2, 3, 4, 5, 6, 7, 99, 102, 11, 12, 77, 114, 55, 88]"
      ]
     },
     "execution_count": 36,
     "metadata": {},
     "output_type": "execute_result"
    }
   ],
   "source": [
    "lisst_x = [3,4,2,6,7,7,3,4,2,6,7,7,3,4,2,6,7,7,3,4,2,6,7,7,3,4,2,6,7,7,3,4,2,6,7,7,11,12,33,5,55,77,88,99,102,114]\n",
    "set_list = list(set(lisst_x))\n",
    "set_list"
   ]
  },
  {
   "cell_type": "code",
   "execution_count": 34,
   "metadata": {},
   "outputs": [
    {
     "data": {
      "text/plain": [
       "('aaa', 'aba', 'aaaaaa', None, None)"
      ]
     },
     "execution_count": 34,
     "metadata": {},
     "output_type": "execute_result"
    }
   ],
   "source": [
    "# найти максимальную подстроку палиндром\n",
    "word = \"aaasdfaaagg\"\n",
    "word1 = \"abada\"\n",
    "word2 = \"aaaaaa\"\n",
    "word3 = \"\"\n",
    "word4 = \"abcd\"\n",
    "\n",
    "def max_polyndrom_substr(word):\n",
    "  if len(word) == 0: return None\n",
    "  max_len_poly = 0\n",
    "  left_bound = 0\n",
    "  right_bound = 0\n",
    "  for i in range(len(word)):\n",
    "    # если нечетная длина слова, то идем от одного эл-та в разные стороны, иначе от соседних в разные\n",
    "    if len(word)%2 == 1: \n",
    "      left, right= i, i\n",
    "    else: \n",
    "      left, right= i, i + 1\n",
    "    # движемся пока символы на границах равны или не упремся в конец слова \n",
    "    while left>=0 and right<len(word) and word[left] == word[right]:\n",
    "      # сравниваем текущей макс длиной полиндрома, если больше то сохраняем координаты \n",
    "      if right + 1 - left >  max_len_poly:\n",
    "        max_len_poly = right + 1 - left \n",
    "        left_bound= left\n",
    "        # +1 чтобы захватить правую границу\n",
    "        right_bound= right + 1\n",
    "      # не забываем про итерацию в while\n",
    "      left -=1\n",
    "      right +=1\n",
    "  # если полиндромов вообще не найдено, то координаты не изменятся и будут нулевые\n",
    "  if left_bound!=0 or right_bound!=0: return word[left_bound:right_bound]\n",
    "  else: return None\n",
    "\n",
    "max_polyndrom_substr(word), max_polyndrom_substr(word1), max_polyndrom_substr(word2), max_polyndrom_substr(word3), max_polyndrom_substr(word4)"
   ]
  },
  {
   "cell_type": "code",
   "execution_count": 100,
   "metadata": {},
   "outputs": [
    {
     "data": {
      "text/plain": [
       "(9, 3, 999999, 2)"
      ]
     },
     "execution_count": 100,
     "metadata": {},
     "output_type": "execute_result"
    }
   ],
   "source": [
    "nomer_kvartiri2 = 101\n",
    "nomer_podjezda2 = 3\n",
    "nomer_etaja2 = 1\n",
    "kolich_etagay = 10\n",
    "nomer_kvartiri1 = 141\n",
    "\n",
    "\n",
    "\n",
    "def help_to_medicine(nomer_etaja2,nomer_podjezda2,nomer_kvartiri2,kolich_etagay,nomer_kvartiri1):\n",
    "  \n",
    "  for kolich_kvartir_na_ploch in range(1,1000000):\n",
    "    # если для текущего кол-ва квартир на площадке посчиталось верно - то заходим\n",
    "    if (nomer_podjezda2 == (nomer_kvartiri2 //(kolich_etagay*kolich_kvartir_na_ploch))+1) and (nomer_etaja2 == (nomer_kvartiri2 - (nomer_podjezda2-1)*kolich_etagay*kolich_kvartir_na_ploch)//kolich_kvartir_na_ploch +1):\n",
    "      # номер подъезда ДО нашего подъезда (предыдущий) \n",
    "      nomer_podjezda = (nomer_kvartiri1 //(kolich_etagay*kolich_kvartir_na_ploch))\n",
    "      # этаж это кол-во квартир в текущем поъезде//кол-во квартир на площадке +1\n",
    "      nomer_etaja = (nomer_kvartiri1 - nomer_podjezda*kolich_etagay*kolich_kvartir_na_ploch)//kolich_kvartir_na_ploch +1\n",
    "      \n",
    "      return nomer_etaja, nomer_podjezda+1, kolich_kvartir_na_ploch\n",
    "      \n",
    "  return None\n",
    "  \n",
    "\n",
    "help_to_medicine(nomer_etaja2,nomer_podjezda2,nomer_kvartiri2,kolich_etagay,nomer_kvartiri1)"
   ]
  },
  {
   "cell_type": "code",
   "execution_count": 57,
   "metadata": {},
   "outputs": [
    {
     "data": {
      "text/plain": [
       "[1, 2, 2, 3, 3, 3, 4, 4, 6, 6, 7, 14, 34, 34, 45, 78, 99]"
      ]
     },
     "execution_count": 57,
     "metadata": {},
     "output_type": "execute_result"
    }
   ],
   "source": [
    "# алгоритм быстрой сортировки\n",
    "nums = [1,3,4,7,34,4,2,6,99,3,14,6,3,2,78,34,45]\n",
    "# ф-ия разбиения последовательности на меньшую и большую части\n",
    "def partition_split(nums, lower, bigger):\n",
    "  # задаем среднее по индексу значение относительно которого будем разбивать\n",
    "  # по значению оно мб мин или макс, в этом случае или i или j не изменится, а второй итератор добежит до индекса split_value, выйдет из while (т.к. будет равенство)\n",
    "  # и если i < j поменяет split_value со статичным индексом, таким образом минимум или максимум будет на своем месте, заходим на след круг, выйдет когда i=j->j\n",
    "  split_value = nums[(lower + bigger) // 2]\n",
    "  # -1 и +1 для того чтобы при заходе в while сравнять \n",
    "  i = lower -1 \n",
    "  j = bigger +1\n",
    "  while True:\n",
    "    # после того как сделали последнюю ракировку переходим к следующему индексу\n",
    "    i +=1\n",
    "    # пока значение слева меньше выбранного среднего по индексу идем вправо\n",
    "    while nums[i] < split_value:\n",
    "      i+=1\n",
    "    # после того как сделали последнюю ракировку переходим к следующему индексу\n",
    "    # пока значение справа больше выбранного среднего по индексу (т.е. в правильной партиции) идем влево\n",
    "    j-=1\n",
    "    while nums[j] > split_value:\n",
    "      j-=1\n",
    "    # если перехлестнулись индексами, то значит все значения стоят в правильных партициях, возвращаем границу разбиения\n",
    "    if i>=j:\n",
    "      return j\n",
    "    # иначе, если индексы i,j в своих партициях, но элементы не в правильных, меняем местами \n",
    "    nums[i] , nums[j] =  nums[j] , nums[i] \n",
    "\n",
    "# ф-ия быстрой сортировки \n",
    "def qwick_sort(nums):\n",
    "  # рекурсивная подфункция (скорее процедура, т.к. нет возврата, а только изменения над последовательностью)\n",
    "  def _qwick_sort(nums, lower, bigger):\n",
    "    # рекурсия будет до тех пор пока индексы границ не сравняются (в конце одной из веток будет _qwick_sort(nums, 0, 0))\n",
    "    if lower< bigger:\n",
    "      # разбиваем на половинки по индексу (на выходе получаем реальный индекс) с сортировкой, потом их на половинки и т.д.\n",
    "      split_index = partition_split(nums, lower, bigger)\n",
    "      _qwick_sort(nums, lower, split_index)\n",
    "      _qwick_sort(nums, split_index +1, bigger)\n",
    "\n",
    "  # вызываем рекурсивную подпроцедуру, так как индексы от 0, то последний будет равен len(nums)-1\n",
    "  _qwick_sort(nums, 0, len(nums)-1)\n",
    "  return nums\n",
    "\n",
    "qwick_sort(nums)\n",
    "\n"
   ]
  },
  {
   "cell_type": "code",
   "execution_count": null,
   "metadata": {},
   "outputs": [],
   "source": [
    "def reverse_int(self, x: int) -> int:\n",
    "        res = 0\n",
    "        sign = -1 if x<0 else 1\n",
    "        max_int = 2**31-1\n",
    "        x = abs(x)\n",
    "        while x!=0:\n",
    "\t\t\t# take the last digit of x\n",
    "            tail = x%10\n",
    "            # before we append this digit to res, we should check if res will go out of range\n",
    "            if res>max_int//10 or (res==max_int//10 and tail>max_int%10):\n",
    "                return 0                            \n",
    "            res = res*10 + tail\n",
    "            #last digit used, so we remove it\n",
    "            x = x//10                    \n",
    "        return res * sign"
   ]
  },
  {
   "cell_type": "code",
   "execution_count": null,
   "metadata": {},
   "outputs": [],
   "source": [
    "# есть ряд столбов разной высоты, найти между какихъ двух нужно налить  воды чтобы было ьолтше литров(высота резервуара определяется по меньшему столбу)\n",
    "\n",
    "def maxArea(self, height):\n",
    "        \n",
    "        maxWater = 0\n",
    "        i = 0\n",
    "        j = len(height)-1\n",
    "        while i < j:\n",
    "            if height[i] < height[j]:\n",
    "                maxWater = max(maxWater, height[i]*(j-i))\n",
    "                i+=1\n",
    "            else:\n",
    "                maxWater = max(maxWater, height[j]*(j-i))\n",
    "                j-=1\n",
    "        return maxWater"
   ]
  },
  {
   "cell_type": "code",
   "execution_count": null,
   "metadata": {},
   "outputs": [],
   "source": [
    "# дан масив целых чисел, и таргет, необходимо найти сумму трех, ближайшую по значению к таргету\n",
    "def threeSumClosest(self, nums: list[int], target: int) -> int:\n",
    "        \n",
    "        nums.sort()\n",
    "        length = len(nums)\n",
    "        result = nums[0]+nums[1]+nums[-1]\n",
    "        min_diff = abs(target-result)\n",
    "        # checked = {}\n",
    "        for i in range(length):\n",
    "            left = i+1\n",
    "            right = length-1\n",
    "            while right>left:\n",
    "                # print(nums[i],nums[left],nums[right])\n",
    "                \n",
    "                temp = nums[i]+nums[left]+nums[right]\n",
    "                \n",
    "                if temp==target:\n",
    "                    return temp\n",
    "                elif abs(target-temp)<min_diff:\n",
    "                    result = temp\n",
    "                    min_diff = abs(target-result)\n",
    "                \n",
    "                if temp>target:\n",
    "                    right-=1\n",
    "                else:\n",
    "                    left+=1\n",
    "        \n",
    "        return result"
   ]
  },
  {
   "cell_type": "code",
   "execution_count": null,
   "metadata": {},
   "outputs": [],
   "source": [
    "# дан массив целых чисел, необходимо найти все 3ки которые в сумме дадут ноль (без повторений - если в 3ке те же числа в другом порядке это повтор)\n",
    "# сортируем, берем 1,2 и последний эл-ты и сужаем окно, проверяя чтобы сумма = таргету,если больше уменьш последнее иначе 2 увел, если встреч одинак элементы пропускаем \n",
    "\n",
    "def threeSum(self, nums: list[int]) -> list[list[int]]:\n",
    "        if not nums or len(nums) <= 2:\n",
    "            return []\n",
    "        \n",
    "        res = []\n",
    "        nums.sort()\n",
    "        for i in range(len(nums)-2):\n",
    "            if i > 0 and nums[i] == nums[i-1]:\n",
    "                continue\n",
    "            left = i + 1\n",
    "            right = len(nums) - 1\n",
    "            while(left < right):\n",
    "                triplet = nums[i] + nums[left] + nums[right]\n",
    "                if triplet == 0:\n",
    "                    res.append([nums[i], nums[left], nums[right]])\n",
    "                    left += 1\n",
    "                    while(nums[left] == nums[left-1] and left < right):\n",
    "                        left += 1\n",
    "                elif triplet < 0:\n",
    "                    left += 1\n",
    "                else:\n",
    "                    right -= 1\n",
    "        return res"
   ]
  },
  {
   "cell_type": "code",
   "execution_count": 65,
   "metadata": {},
   "outputs": [],
   "source": [
    "# дан массив целых чисел, ищем разные 4ки в сумме равные таргету\n",
    "# сортируем, берем 1,2,3 и последний эл-ты и сужаем окно, проверяя чтобы сумма 3 и посл = таргет-1-2 (в итоге сумма=таргету),\n",
    "# если больше уменьш послед, иначе увел 3, если встреч одинак элементы пропускаем \n",
    "def fourSum(nums: list[int], target: int) -> list[list[int]]:\n",
    "        nums.sort()\n",
    "        i = 0\n",
    "        n = len(nums)\n",
    "        ans = []\n",
    "        while i < n-3:\n",
    "            if i > 0 and nums[i] == nums[i-1]:\n",
    "                i+=1\n",
    "                continue\n",
    "            j = i+1\n",
    "            while j < n-2:\n",
    "                if j > i+1 and nums[j] == nums[j-1]:\n",
    "                    j+=1\n",
    "                    continue\n",
    "                l = j+1\n",
    "                r = n-1\n",
    "                tasum = target - nums[i] - nums[j]\n",
    "\n",
    "                while l < r:\n",
    "                    if nums[l] + nums[r] == tasum:\n",
    "                        ans.append([nums[i],nums[j],nums[l],nums[r] ])\n",
    "\n",
    "                        while l < r and nums[l] == nums[l+1]:\n",
    "                            l+=1\n",
    "                        while l < r and nums[r] == nums[r-1]:\n",
    "                            r-=1\n",
    "\n",
    "                        l+=1\n",
    "                        r-=1\n",
    "                    elif nums[l] + nums[r] > tasum: \n",
    "                        r-=1\n",
    "                    else:\n",
    "                        l+=1\n",
    "                j+=1\n",
    "            i+=1\n",
    "\n",
    "        return(ans)"
   ]
  },
  {
   "cell_type": "code",
   "execution_count": 59,
   "metadata": {},
   "outputs": [
    {
     "data": {
      "text/plain": [
       "['a', 'b', 'c']"
      ]
     },
     "execution_count": 59,
     "metadata": {},
     "output_type": "execute_result"
    }
   ],
   "source": [
    "mapping = {\n",
    "            '2': ['a','b','c'],\n",
    "            '3': ['d','e','f'],\n",
    "            '4': ['g','h','i'],\n",
    "            '5': ['j','k','l'],\n",
    "            '6': ['m','n','o'],\n",
    "            '7': ['p','q','r', 's'],\n",
    "            '8': ['t','u','v'],\n",
    "            '9': ['w','x','y', 'z'],\n",
    "        }\n",
    "res = []\n",
    "        \n",
    "\n",
    "for letter in mapping['2']:\n",
    "    res.append(letter)\n",
    "res"
   ]
  },
  {
   "cell_type": "code",
   "execution_count": 63,
   "metadata": {},
   "outputs": [
    {
     "name": "stdout",
     "output_type": "stream",
     "text": [
      "[1, 8, 7] [2, 9, 6] [3, 4, 5]\n"
     ]
    }
   ],
   "source": [
    "# Создаётся функция, которая и будет всё делать\n",
    "def zm(n):\n",
    "    # Переменной dx присваивается значение 1\n",
    "    # Переменной dy присваивается значение 0\n",
    "    # Обычно dx и dy - это некие приращения для переменных x и y\n",
    "    dx, dy = 1, 0\n",
    "    # Переменным x и y присваивается значение 0\n",
    "    x, y = 0, 0\n",
    "    # Создаётся список списков\n",
    "    # Это матрица n*n\n",
    "    # Пока все её элементы - пустые (None)\n",
    "    arr = [[None] * n for _ in range(n)]\n",
    "    # Выполняется перебор\n",
    "    # Для переменной i последовательно перебираем значения от 1 до (n-квадрат + 1)\n",
    "    for i in range(1, n**2+1):\n",
    "        # Элементу матрицы с координатами x и y присваивается значение i\n",
    "        # Эта строчка будет присваивать последовательные натуральные числа\n",
    "        # тем ячейкам, которые перебирает код чуть ниже\n",
    "        arr[x][y] = i\n",
    "        # Создаются временные переменные nx и ny\n",
    "        # в которых вычисляются новые значения для x и y\n",
    "        # для этого к старым значенииям прибавляются приращения\n",
    "        nx, ny = x+dx, y+dy\n",
    "        # Если всё нормально, и индекс не выскочил за пределы матрицы\n",
    "        # или не наткнулся на уже занятую ячейку\n",
    "        if 0 <= nx < n and 0 <= ny < n and not arr[nx][ny]:\n",
    "            # то эти значения и оставляются\n",
    "            x, y = nx, ny\n",
    "        else:\n",
    "            # а если индекс выскочил за границу матрицы\n",
    "            # или наткнулся на уже занятую ячейку\n",
    "            # то разворачиваемся на 90 градусов\n",
    "            # путем замены приращения по x и y друг на друга\n",
    "            # а минус нужен, чтобы он не ходил только вправо или вниз, \n",
    "            # а чередовал с движениями вверх или влево. \n",
    "            # Так и получается спираль \n",
    "            dx, dy = -dy, dx\n",
    "            # и используем уже это изменённое движение для новых значений x и y\n",
    "            x, y = x+dx, y+dy\n",
    "    # После того, как перебрали все элементы, \n",
    "    # печатаем то, что получилось\n",
    "    # для n =3 print(*arr) = [[1,8,7],[2,9,6],[3,4,5]] - так получается изза того что [x-номер списка][y-номер элемента внутри списка], сначала идем по х\n",
    "    #for x in list(zip(*arr)):\n",
    "      # *x передаст значения списка\n",
    "    print(*arr)\n",
    "\n",
    "# А здесь вся вышеописанная функция\n",
    "# вызывается с аргументом, который вводит пользователь с клавиатуры\n",
    "zm(3)"
   ]
  },
  {
   "cell_type": "code",
   "execution_count": 64,
   "metadata": {},
   "outputs": [
    {
     "data": {
      "text/plain": [
       "[[None, None, None, None],\n",
       " [None, None, None, None],\n",
       " [None, None, None, None],\n",
       " [None, None, None, None]]"
      ]
     },
     "execution_count": 64,
     "metadata": {},
     "output_type": "execute_result"
    }
   ],
   "source": [
    "[[None] * 4 for _ in range(4)]"
   ]
  },
  {
   "cell_type": "code",
   "execution_count": 31,
   "metadata": {},
   "outputs": [
    {
     "data": {
      "text/plain": [
       "0.603030303030303"
      ]
     },
     "execution_count": 31,
     "metadata": {},
     "output_type": "execute_result"
    }
   ],
   "source": [
    "import numpy as np\n",
    "x= np.array([0,2,1,4])\n",
    "y= np.array([0,1,4,7])\n",
    "\n",
    "def smape(x: np.array, y: np.array) -> float:\n",
    "      \n",
    "    return np.average(2 * np.abs(np.clip(x, 0.0001, np.max(x)) - np.clip(y, 0.0001, np.max(y))) / (np.abs(np.clip(x, 0.0001, np.max(x))) + np.abs(np.clip(y, 0.0001, np.max(y)))))\n",
    "  \n",
    "smape(x,y)"
   ]
  },
  {
   "cell_type": "code",
   "execution_count": 25,
   "metadata": {},
   "outputs": [
    {
     "data": {
      "text/plain": [
       "array([1.e-04, 2.e+00, 1.e+00, 4.e+00])"
      ]
     },
     "execution_count": 25,
     "metadata": {},
     "output_type": "execute_result"
    }
   ],
   "source": [
    "np.clip(y, 0.0001, np.max(y))"
   ]
  },
  {
   "cell_type": "code",
   "execution_count": null,
   "metadata": {},
   "outputs": [],
   "source": []
  }
 ],
 "metadata": {
  "interpreter": {
   "hash": "11938c6bc6919ae2720b4d5011047913343b08a43b18698fd82dedb0d4417594"
  },
  "kernelspec": {
   "display_name": "Python 3.9.5 64-bit",
   "language": "python",
   "name": "python3"
  },
  "language_info": {
   "codemirror_mode": {
    "name": "ipython",
    "version": 3
   },
   "file_extension": ".py",
   "mimetype": "text/x-python",
   "name": "python",
   "nbconvert_exporter": "python",
   "pygments_lexer": "ipython3",
   "version": "3.9.5"
  },
  "orig_nbformat": 4
 },
 "nbformat": 4,
 "nbformat_minor": 2
}
